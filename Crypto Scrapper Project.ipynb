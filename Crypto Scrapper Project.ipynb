{
 "cells": [
  {
   "cell_type": "code",
   "execution_count": null,
   "id": "51042135-7746-4c2e-911c-6f62a13eb54c",
   "metadata": {},
   "outputs": [],
   "source": [
    "from bs4 import BeautifulSoup\n",
    "import requests"
   ]
  },
  {
   "cell_type": "code",
   "execution_count": null,
   "id": "c4b2ae0a-a53d-43dd-9494-3811fd817b1e",
   "metadata": {},
   "outputs": [],
   "source": [
    "url = 'https://coinmarketcap.com/currencies/bitcoin/'\n",
    "\n",
    "page=requests.get(url)\n",
    "\n",
    "soup= BeautifulSoup(page.text,'html')"
   ]
  },
  {
   "cell_type": "code",
   "execution_count": null,
   "id": "595a3998-60f4-401e-ac0c-7fa4234953b1",
   "metadata": {},
   "outputs": [],
   "source": [
    "print(soup)"
   ]
  },
  {
   "cell_type": "code",
   "execution_count": 1,
   "id": "da9daf30-4c0b-442c-8f3a-d81d944467b5",
   "metadata": {},
   "outputs": [
    {
     "ename": "NameError",
     "evalue": "name 'soup' is not defined",
     "output_type": "error",
     "traceback": [
      "\u001b[1;31m---------------------------------------------------------------------------\u001b[0m",
      "\u001b[1;31mNameError\u001b[0m                                 Traceback (most recent call last)",
      "Cell \u001b[1;32mIn[1], line 1\u001b[0m\n\u001b[1;32m----> 1\u001b[0m crypto_name_full \u001b[38;5;241m=\u001b[39m soup\u001b[38;5;241m.\u001b[39mfind(\u001b[38;5;124m'\u001b[39m\u001b[38;5;124mspan\u001b[39m\u001b[38;5;124m'\u001b[39m, class_ \u001b[38;5;241m=\u001b[39m \u001b[38;5;124m'\u001b[39m\u001b[38;5;124msc-65e7f566-0 lsTl\u001b[39m\u001b[38;5;124m'\u001b[39m)\u001b[38;5;241m.\u001b[39mtext\n\u001b[0;32m      2\u001b[0m crypto_name \u001b[38;5;241m=\u001b[39mcrypto_name_full\u001b[38;5;241m.\u001b[39mreplace(\u001b[38;5;124m'\u001b[39m\u001b[38;5;124mprice\u001b[39m\u001b[38;5;124m'\u001b[39m,\u001b[38;5;124m'\u001b[39m\u001b[38;5;124m'\u001b[39m)\n\u001b[0;32m      3\u001b[0m \u001b[38;5;28mprint\u001b[39m(crypto_name)\n",
      "\u001b[1;31mNameError\u001b[0m: name 'soup' is not defined"
     ]
    }
   ],
   "source": [
    "crypto_name_full = soup.find('span', class_ = 'sc-65e7f566-0 lsTl').text\n",
    "crypto_name =crypto_name_full.replace('price','')\n",
    "print(crypto_name)"
   ]
  },
  {
   "cell_type": "code",
   "execution_count": null,
   "id": "124dc367-c182-499e-b2c8-5897e94f15fc",
   "metadata": {},
   "outputs": [],
   "source": [
    "crypto_price2 = soup.find('span', class_ = 'sc-65e7f566-0 WXGwg base-text').text\n",
    "final_price =crypto_price2.replace('$','')\n",
    "print(final_price)"
   ]
  },
  {
   "cell_type": "code",
   "execution_count": 93,
   "id": "062c28cb-c1aa-4f79-9984-7267a39803b1",
   "metadata": {},
   "outputs": [],
   "source": [
    "import pandas as pd"
   ]
  },
  {
   "cell_type": "code",
   "execution_count": 95,
   "id": "f1bf44cd-43be-4f49-8b0f-604a90b02ddb",
   "metadata": {},
   "outputs": [
    {
     "name": "stdout",
     "output_type": "stream",
     "text": [
      "2025-04-17 21:30\n"
     ]
    }
   ],
   "source": [
    "from datetime import datetime\n",
    "\n",
    "dt = datetime.now()\n",
    "date_time = dt.strftime(\"%Y-%m-%d %H:%M\") \n",
    "print(date_time)"
   ]
  },
  {
   "cell_type": "code",
   "execution_count": 102,
   "id": "88d312da-83fb-4ea6-af19-945e4cc168cb",
   "metadata": {},
   "outputs": [
    {
     "data": {
      "text/html": [
       "<div>\n",
       "<style scoped>\n",
       "    .dataframe tbody tr th:only-of-type {\n",
       "        vertical-align: middle;\n",
       "    }\n",
       "\n",
       "    .dataframe tbody tr th {\n",
       "        vertical-align: top;\n",
       "    }\n",
       "\n",
       "    .dataframe thead th {\n",
       "        text-align: right;\n",
       "    }\n",
       "</style>\n",
       "<table border=\"1\" class=\"dataframe\">\n",
       "  <thead>\n",
       "    <tr style=\"text-align: right;\">\n",
       "      <th></th>\n",
       "      <th>Crypto Name</th>\n",
       "      <th>Crypto Price</th>\n",
       "      <th>TimeStamp</th>\n",
       "    </tr>\n",
       "  </thead>\n",
       "  <tbody>\n",
       "    <tr>\n",
       "      <th>0</th>\n",
       "      <td>Bitcoin</td>\n",
       "      <td>84,819.27</td>\n",
       "      <td>2025-04-17 21:30</td>\n",
       "    </tr>\n",
       "  </tbody>\n",
       "</table>\n",
       "</div>"
      ],
      "text/plain": [
       "  Crypto Name Crypto Price         TimeStamp\n",
       "0    Bitcoin     84,819.27  2025-04-17 21:30"
      ]
     },
     "execution_count": 102,
     "metadata": {},
     "output_type": "execute_result"
    }
   ],
   "source": [
    "dt = datetime.now()\n",
    "dict={'Crypto Name':crypto_name,'Crypto Price':final_price,'TimeStamp': date_time}\n",
    "\n",
    "df= pd.DataFrame([dict])\n",
    "df"
   ]
  },
  {
   "cell_type": "code",
   "execution_count": 104,
   "id": "9a8c59e4-9a46-4369-b308-8da62c41d378",
   "metadata": {},
   "outputs": [],
   "source": [
    "df.to_csv(r'C:\\Users\\ivano\\OneDrive\\Documents\\Crypto Web Puller\\Automatic.csv') #'17:53'"
   ]
  },
  {
   "cell_type": "code",
   "execution_count": 106,
   "id": "c3b25f8d-c222-4d14-9dd4-dd1fa6a4a5f7",
   "metadata": {},
   "outputs": [],
   "source": [
    "import os"
   ]
  },
  {
   "cell_type": "code",
   "execution_count": 110,
   "id": "2b90c4d1-0d74-4279-b63c-112e79c3f02a",
   "metadata": {},
   "outputs": [],
   "source": [
    "if os.path.exists(r'C:\\Users\\ivano\\OneDrive\\Documents\\Crypto Web Puller\\Automatic.csv'):\n",
    "    df.to_csv(r'C:\\Users\\ivano\\OneDrive\\Documents\\Crypto Web Puller\\Automatic.csv',mode ='a', header= False)\n",
    "else:\n",
    "    df.to_csv(r'C:\\Users\\ivano\\OneDrive\\Documents\\Crypto Web Puller\\Automatic.csv')"
   ]
  },
  {
   "cell_type": "code",
   "execution_count": null,
   "id": "62eb483b-bff1-4a2e-a139-cccfdac2639e",
   "metadata": {},
   "outputs": [],
   "source": [
    "#Let's put it all together"
   ]
  },
  {
   "cell_type": "code",
   "execution_count": 7,
   "id": "05d7fb0d-b85e-406c-b093-721a362a540b",
   "metadata": {},
   "outputs": [],
   "source": [
    "from bs4 import BeautifulSoup\n",
    "import requests\n",
    "import os\n",
    "import pandas as pd\n",
    "from datetime import datetime\n",
    "import time"
   ]
  },
  {
   "cell_type": "code",
   "execution_count": 38,
   "id": "b90da6e2-0ffd-4f0f-af60-3cea25232d92",
   "metadata": {},
   "outputs": [],
   "source": [
    "def automated_crypto_pull():\n",
    "    url = 'https://coinmarketcap.com/currencies/bitcoin/'\n",
    "    \n",
    "    page=requests.get(url)\n",
    "    \n",
    "    soup= BeautifulSoup(page.text,'html')\n",
    "    \n",
    "    crypto_name_full = soup.find('span', class_ = 'sc-65e7f566-0 lsTl').text\n",
    "    crypto_name =crypto_name_full.replace('price','')\n",
    "    \n",
    "    crypto_price = soup.find('span', class_ = 'sc-65e7f566-0 WXGwg base-text').text\n",
    "    final_price =crypto_price.replace('$','')\n",
    "    \n",
    "    dt = datetime.now()\n",
    "    date_time = dt.strftime(\"%Y-%m-%d %H:%M\") \n",
    "    \n",
    "    dict={'Crypto Name':crypto_name,'Crypto Price':final_price,'TimeStamp': date_time}\n",
    "    \n",
    "    df= pd.DataFrame([dict])\n",
    "    \n",
    "    if os.path.exists(r'C:\\Users\\ivano\\OneDrive\\Documents\\Crypto Web Puller\\Automatic.csv'):\n",
    "        df.to_csv(r'C:\\Users\\ivano\\OneDrive\\Documents\\Crypto Web Puller\\Automatic.csv',mode ='a', header= False,index = False)\n",
    "    else:\n",
    "        df.to_csv(r'C:\\Users\\ivano\\OneDrive\\Documents\\Crypto Web Puller\\Automatic.csv',index = False)\n",
    "    print(df)"
   ]
  },
  {
   "cell_type": "code",
   "execution_count": null,
   "id": "0ddcb50b-fb3b-4761-bcec-42bef3a1988b",
   "metadata": {},
   "outputs": [],
   "source": [
    "# Automate It"
   ]
  },
  {
   "cell_type": "code",
   "execution_count": null,
   "id": "3a90f09c-9f26-4eec-bc9b-f4695bb5d252",
   "metadata": {},
   "outputs": [
    {
     "name": "stdout",
     "output_type": "stream",
     "text": [
      "  Crypto Name Crypto Price         TimeStamp\n",
      "0    Bitcoin     85,204.90  2025-04-19 17:26\n"
     ]
    }
   ],
   "source": [
    "while True:\n",
    "    automated_crypto_pull()\n",
    "    time.sleep(3600)"
   ]
  },
  {
   "cell_type": "code",
   "execution_count": null,
   "id": "5fab3470-48b8-43d3-8437-e63239de15c5",
   "metadata": {},
   "outputs": [],
   "source": []
  },
  {
   "cell_type": "code",
   "execution_count": null,
   "id": "e57e0248-48f0-48f2-9b11-5e9b285e09c7",
   "metadata": {},
   "outputs": [],
   "source": []
  }
 ],
 "metadata": {
  "kernelspec": {
   "display_name": "Python [conda env:base] *",
   "language": "python",
   "name": "conda-base-py"
  },
  "language_info": {
   "codemirror_mode": {
    "name": "ipython",
    "version": 3
   },
   "file_extension": ".py",
   "mimetype": "text/x-python",
   "name": "python",
   "nbconvert_exporter": "python",
   "pygments_lexer": "ipython3",
   "version": "3.12.7"
  }
 },
 "nbformat": 4,
 "nbformat_minor": 5
}
